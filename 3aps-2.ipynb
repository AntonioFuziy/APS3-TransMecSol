{
 "cells": [
  {
   "cell_type": "markdown",
   "metadata": {},
   "source": [
    "<font size='200' style='font-family:Georgia' color='midnightblue'>APS 3</font> \n"
   ]
  },
  {
   "cell_type": "markdown",
   "metadata": {},
   "source": [
    "## <font style='font-family:Georgia' color='teal'> Estudo de uma treliça plana</font> \n"
   ]
  },
  {
   "cell_type": "markdown",
   "metadata": {},
   "source": [
    "####  <font style='font-family:Georgia' color='darkturquoise'> André Tavernaro || Antonio Fuzyi || Gabriela Mitu || Gabriella Cukier</font> "
   ]
  },
  {
   "cell_type": "markdown",
   "metadata": {},
   "source": [
    "### Importando bibliotecas e valores"
   ]
  },
  {
   "cell_type": "code",
   "execution_count": 1,
   "metadata": {},
   "outputs": [],
   "source": [
    "from funcoesTermosol import *\n",
    "import numpy as np\n",
    "import math\n",
    "import tqdm"
   ]
  },
  {
   "cell_type": "markdown",
   "metadata": {},
   "source": [
    "### Representação da estrutura"
   ]
  },
  {
   "cell_type": "code",
   "execution_count": 2,
   "metadata": {
    "scrolled": false
   },
   "outputs": [
    {
     "data": {
      "image/png": "[encoded data removed]",
      "text/plain": [
       "<Figure size 432x288 with 1 Axes>"
      ]
     },
     "metadata": {
      "needs_background": "light"
     },
     "output_type": "display_data"
    }
   ],
   "source": [
    "entrada = \"trelica.xlsx\"\n",
    "\n",
    "[nn,N,nm,Inc,nc,F,nr,R] = importa(entrada)\n",
    "\n",
    "plota(N, Inc)\n",
    "# geraSaida()"
   ]
  },
  {
   "cell_type": "markdown",
   "metadata": {},
   "source": [
    "### Informações sobre a treliça\n",
    "\n",
    "* nn: número de nós\n",
    "* N: Matriz dos nós\n",
    "* nm: número de membros\n",
    "* Inc: Matriz de incidência. Colunas:\n",
    "    1. Nó 1\n",
    "    2. Nó 2\n",
    "    3. E\n",
    "    4. A\n",
    "* nc: número de cargas\n",
    "* F: forças (Vetor carregamento)\n",
    "* nr: número de restrições\n",
    "* R: Restrições (Vetor com os graus de liberdade)"
   ]
  },
  {
   "cell_type": "code",
   "execution_count": 3,
   "metadata": {},
   "outputs": [],
   "source": [
    "# Comprimento \n",
    "L = 5\n",
    "#numero de nodes\n",
    "n = 8"
   ]
  },
  {
   "cell_type": "code",
   "execution_count": 4,
   "metadata": {},
   "outputs": [
    {
     "name": "stdout",
     "output_type": "stream",
     "text": [
      "[[0. 0. 0. 0. 0. 0. 0. 0.]\n",
      " [0. 0. 0. 0. 0. 0. 0. 0.]]\n"
     ]
    }
   ],
   "source": [
    "nodes = np.zeros((2, n))\n",
    "print(nodes)"
   ]
  },
  {
   "cell_type": "markdown",
   "metadata": {},
   "source": [
    "### Gerando a matriz de conectividade transposta"
   ]
  },
  {
   "cell_type": "code",
   "execution_count": 6,
   "metadata": {},
   "outputs": [
    {
     "data": {
      "text/plain": [
       "array([[-1, -1,  0,  0,  0,  0,  0,  0,  0,  0,  0,  0,  0],\n",
       "       [ 1,  0, -1, -1,  0, -1,  0,  0,  0,  0,  0,  0,  0],\n",
       "       [ 0,  1,  1,  0, -1,  0,  0,  0,  0,  0,  0,  0,  0],\n",
       "       [ 0,  0,  0,  1,  1,  0, -1, -1,  0, -1,  0,  0,  0],\n",
       "       [ 0,  0,  0,  0,  0,  1,  1,  0, -1,  0,  0,  0,  0],\n",
       "       [ 0,  0,  0,  0,  0,  0,  0,  1,  1,  0, -1, -1,  0],\n",
       "       [ 0,  0,  0,  0,  0,  0,  0,  0,  0,  1,  1,  0, -1],\n",
       "       [ 0,  0,  0,  0,  0,  0,  0,  0,  0,  0,  0,  1,  1]])"
      ]
     },
     "execution_count": 6,
     "metadata": {},
     "output_type": "execute_result"
    }
   ],
   "source": [
    "C = []\n",
    "for i in range(nm):\n",
    "        C_i = nn*[0]\n",
    "\n",
    "        no_1 = int(Inc[i, 0])\n",
    "        no_2 = int(Inc[i, 1])\n",
    "\n",
    "        C_i[no_1-1] = -1\n",
    "        C_i[no_2-1] = 1\n",
    "        C.append(C_i) \n",
    "\n",
    "C_t = np.array(C).T\n",
    "C_t"
   ]
  },
  {
   "cell_type": "markdown",
   "metadata": {},
   "source": [
    "### Matriz dos membros (M)"
   ]
  },
  {
   "cell_type": "code",
   "execution_count": 7,
   "metadata": {
    "scrolled": true
   },
   "outputs": [
    {
     "name": "stdout",
     "output_type": "stream",
     "text": [
      "[[ 5.  5.  0.  5.  5.  5.  0.  5.  5.  5.  0.  5.  5.]\n",
      " [ 0.  5.  5.  5.  0.  0. -5. -5.  0.  0.  5.  0. -5.]]\n"
     ]
    }
   ],
   "source": [
    "M = np.matmul(N, C_t)\n",
    "print(M)"
   ]
  },
  {
   "cell_type": "markdown",
   "metadata": {},
   "source": [
    "### Obtendo Se, Ke e Kg"
   ]
  },
  {
   "cell_type": "code",
   "execution_count": 8,
   "metadata": {},
   "outputs": [
    {
     "name": "stdout",
     "output_type": "stream",
     "text": [
      "[[ 4.45320760e+09  1.48440253e+09 -2.96880507e+09  0.00000000e+00\n",
      "  -1.48440253e+09 -1.48440253e+09  0.00000000e+00  0.00000000e+00\n",
      "   0.00000000e+00  0.00000000e+00  0.00000000e+00  0.00000000e+00\n",
      "   0.00000000e+00  0.00000000e+00  0.00000000e+00  0.00000000e+00]\n",
      " [ 1.48440253e+09  1.48440253e+09  0.00000000e+00  0.00000000e+00\n",
      "  -1.48440253e+09 -1.48440253e+09  0.00000000e+00  0.00000000e+00\n",
      "   0.00000000e+00  0.00000000e+00  0.00000000e+00  0.00000000e+00\n",
      "   0.00000000e+00  0.00000000e+00  0.00000000e+00  0.00000000e+00]\n",
      " [-2.96880507e+09  0.00000000e+00  7.42201268e+09  1.48440253e+09\n",
      "   0.00000000e+00  0.00000000e+00 -1.48440253e+09 -1.48440253e+09\n",
      "  -2.96880507e+09  0.00000000e+00  0.00000000e+00  0.00000000e+00\n",
      "   0.00000000e+00  0.00000000e+00  0.00000000e+00  0.00000000e+00]\n",
      " [ 0.00000000e+00  0.00000000e+00  1.48440253e+09  4.45320760e+09\n",
      "   0.00000000e+00 -2.96880507e+09 -1.48440253e+09 -1.48440253e+09\n",
      "   0.00000000e+00  0.00000000e+00  0.00000000e+00  0.00000000e+00\n",
      "   0.00000000e+00  0.00000000e+00  0.00000000e+00  0.00000000e+00]\n",
      " [-1.48440253e+09 -1.48440253e+09  0.00000000e+00  0.00000000e+00\n",
      "   4.45320760e+09  1.48440253e+09 -2.96880507e+09  0.00000000e+00\n",
      "   0.00000000e+00  0.00000000e+00  0.00000000e+00  0.00000000e+00\n",
      "   0.00000000e+00  0.00000000e+00  0.00000000e+00  0.00000000e+00]\n",
      " [-1.48440253e+09 -1.48440253e+09  0.00000000e+00 -2.96880507e+09\n",
      "   1.48440253e+09  4.45320760e+09  0.00000000e+00  0.00000000e+00\n",
      "   0.00000000e+00  0.00000000e+00  0.00000000e+00  0.00000000e+00\n",
      "   0.00000000e+00  0.00000000e+00  0.00000000e+00  0.00000000e+00]\n",
      " [ 0.00000000e+00  0.00000000e+00 -1.48440253e+09 -1.48440253e+09\n",
      "  -2.96880507e+09  0.00000000e+00  8.90641521e+09  0.00000000e+00\n",
      "   0.00000000e+00  0.00000000e+00 -1.48440253e+09  1.48440253e+09\n",
      "  -2.96880507e+09  0.00000000e+00  0.00000000e+00  0.00000000e+00]\n",
      " [ 0.00000000e+00  0.00000000e+00 -1.48440253e+09 -1.48440253e+09\n",
      "   0.00000000e+00  0.00000000e+00  0.00000000e+00  5.93761014e+09\n",
      "   0.00000000e+00 -2.96880507e+09  1.48440253e+09 -1.48440253e+09\n",
      "   0.00000000e+00  0.00000000e+00  0.00000000e+00  0.00000000e+00]\n",
      " [ 0.00000000e+00  0.00000000e+00 -2.96880507e+09  0.00000000e+00\n",
      "   0.00000000e+00  0.00000000e+00  0.00000000e+00  0.00000000e+00\n",
      "   5.93761014e+09  0.00000000e+00 -2.96880507e+09  0.00000000e+00\n",
      "   0.00000000e+00  0.00000000e+00  0.00000000e+00  0.00000000e+00]\n",
      " [ 0.00000000e+00  0.00000000e+00  0.00000000e+00  0.00000000e+00\n",
      "   0.00000000e+00  0.00000000e+00  0.00000000e+00 -2.96880507e+09\n",
      "   0.00000000e+00  2.96880507e+09  0.00000000e+00  0.00000000e+00\n",
      "   0.00000000e+00  0.00000000e+00  0.00000000e+00  0.00000000e+00]\n",
      " [ 0.00000000e+00  0.00000000e+00  0.00000000e+00  0.00000000e+00\n",
      "   0.00000000e+00  0.00000000e+00 -1.48440253e+09  1.48440253e+09\n",
      "  -2.96880507e+09  0.00000000e+00  7.42201268e+09 -1.48440253e+09\n",
      "   0.00000000e+00  0.00000000e+00 -2.96880507e+09  0.00000000e+00]\n",
      " [ 0.00000000e+00  0.00000000e+00  0.00000000e+00  0.00000000e+00\n",
      "   0.00000000e+00  0.00000000e+00  1.48440253e+09 -1.48440253e+09\n",
      "   0.00000000e+00  0.00000000e+00 -1.48440253e+09  4.45320760e+09\n",
      "   0.00000000e+00 -2.96880507e+09  0.00000000e+00  0.00000000e+00]\n",
      " [ 0.00000000e+00  0.00000000e+00  0.00000000e+00  0.00000000e+00\n",
      "   0.00000000e+00  0.00000000e+00 -2.96880507e+09  0.00000000e+00\n",
      "   0.00000000e+00  0.00000000e+00  0.00000000e+00  0.00000000e+00\n",
      "   4.45320760e+09 -1.48440253e+09 -1.48440253e+09  1.48440253e+09]\n",
      " [ 0.00000000e+00  0.00000000e+00  0.00000000e+00  0.00000000e+00\n",
      "   0.00000000e+00  0.00000000e+00  0.00000000e+00  0.00000000e+00\n",
      "   0.00000000e+00  0.00000000e+00  0.00000000e+00 -2.96880507e+09\n",
      "  -1.48440253e+09  4.45320760e+09  1.48440253e+09 -1.48440253e+09]\n",
      " [ 0.00000000e+00  0.00000000e+00  0.00000000e+00  0.00000000e+00\n",
      "   0.00000000e+00  0.00000000e+00  0.00000000e+00  0.00000000e+00\n",
      "   0.00000000e+00  0.00000000e+00 -2.96880507e+09  0.00000000e+00\n",
      "  -1.48440253e+09  1.48440253e+09  4.45320760e+09 -1.48440253e+09]\n",
      " [ 0.00000000e+00  0.00000000e+00  0.00000000e+00  0.00000000e+00\n",
      "   0.00000000e+00  0.00000000e+00  0.00000000e+00  0.00000000e+00\n",
      "   0.00000000e+00  0.00000000e+00  0.00000000e+00  0.00000000e+00\n",
      "   1.48440253e+09 -1.48440253e+09 -1.48440253e+09  1.48440253e+09]]\n"
     ]
    }
   ],
   "source": [
    "len_linhas_M = len(M)\n",
    "len_linhas_C = len(C_t)\n",
    "Kg = np.zeros((16, 16))\n",
    "for i in range(0, nm):\n",
    "    E = Inc[i,2]\n",
    "    A = Inc[i,3]\n",
    "    const = E*A/L\n",
    "    \n",
    "    M_aux = M[:,i]\n",
    "    M_aux.shape = [len_linhas_M, 1]\n",
    "    M_aux2 = np.transpose(M_aux)\n",
    "    Se = (const * np.matmul(M_aux, M_aux2)) / (np.linalg.norm(M[:,i])**2)\n",
    "\n",
    "    C_aux = C_t[:,i]\n",
    "    C_aux.shape = [len_linhas_C, 1]\n",
    "    C_aux2 = np.transpose(C_aux)\n",
    "    multi_C_aux = np.matmul(C_aux, C_aux2)\n",
    "    Ke = np.kron(multi_C_aux, Se)\n",
    "    Kg += Ke\n",
    "# print(Se)\n",
    "print(Kg)"
   ]
  },
  {
   "cell_type": "markdown",
   "metadata": {},
   "source": [
    "### Deslocamento nodal"
   ]
  },
  {
   "cell_type": "code",
   "execution_count": 9,
   "metadata": {},
   "outputs": [],
   "source": [
    "def compara_solucoes(array1, array2):\n",
    "    return max(abs((s2 - s1)/s2) for s1,s2 in zip(array1, array2))"
   ]
  },
  {
   "cell_type": "code",
   "execution_count": 10,
   "metadata": {},
   "outputs": [],
   "source": [
    "def solucao_gauss(k, F, ite, tol):\n",
    "    \n",
    "    matriz_x = np.zeros((F.shape[0], 1)) #cria uma matriz nx1\n",
    "    matriz_compare = matriz_x.copy() #salva os valores da iteração anterior\n",
    "    \n",
    "    for iteracao in range(ite):\n",
    "        for indice in range(matriz_x.shape[0]):\n",
    "            b = F[indice]\n",
    "            ax = sum(a*x for a,x in zip(k[indice, :], matriz_x[:,0])) - k[indice, indice]*matriz_x[indice,0]            \n",
    "            matriz_x[indice] = (b - ax)/k[indice, indice]\n",
    "        \n",
    "        erro = compara_solucoes(matriz_compare[:,0], matriz_x[:,0])\n",
    "        \n",
    "        \n",
    "        \n",
    "        if erro < tol and iteracao > 1:\n",
    "            print(\"Convergiu na {0}º iteracao\".format(iteracao))\n",
    "            break\n",
    "        else:\n",
    "            print(\"                                  \", end=\"\\r\")\n",
    "            print(\"Erro: {0}\".format(erro), end=\"\\r\")\n",
    "            matriz_compare = matriz_x.copy() #atualiza valores \n",
    "        \n",
    "    return matriz_x\n",
    "\n",
    "def solucao_jacobi(k, F, ite, tol):\n",
    "    \n",
    "    matriz_x = np.zeros((F.shape[0], 1)) #cria uma matriz nx1\n",
    "    matriz_x_auxiliar = np.zeros((F.shape[0], 1))\n",
    "    \n",
    "    for iteracao in range(ite):\n",
    "        for indice in range(matriz_x.shape[0]):\n",
    "            b = F[indice]\n",
    "            ax = sum(a*x for a,x in zip(k[indice, :], matriz_x[:,0])) - k[indice, indice]*matriz_x[indice,0]            \n",
    "            matriz_x_auxiliar[indice] = (b - ax)/k[indice, indice]\n",
    "            \n",
    "        matriz_x = matriz_x_auxiliar\n",
    "        \n",
    "    return matriz_x"
   ]
  },
  {
   "cell_type": "code",
   "execution_count": 11,
   "metadata": {
    "tags": []
   },
   "outputs": [
    {
     "name": "stdout",
     "output_type": "stream",
     "text": [
      "-------- JACOBI --------37        \n",
      "[[ 1.56485946e-05]\n",
      " [ 9.13255637e-04]\n",
      " [ 1.09328926e-05]\n",
      " [ 9.25828940e-04]\n",
      " [ 3.74896406e-06]\n",
      " [ 9.34586672e-04]\n",
      " [ 3.74896406e-06]\n",
      " [ 9.43791616e-04]\n",
      " [ 8.27816937e-07]\n",
      " [ 9.43791616e-04]\n",
      " [-9.27725877e-06]\n",
      " [ 9.29418049e-04]\n",
      " [ 3.74896406e-06]\n",
      " [ 9.38175782e-04]\n",
      " [-1.39929608e-05]\n",
      " [ 9.20433857e-04]]\n",
      "-------- GAUSS --------\n",
      "[[ 1.45924144e-05]\n",
      " [ 9.14996907e-04]\n",
      " [ 9.87671242e-06]\n",
      " [ 9.28664450e-04]\n",
      " [ 1.59854305e-06]\n",
      " [ 9.37422183e-04]\n",
      " [ 1.59854305e-06]\n",
      " [ 9.47721367e-04]\n",
      " [-2.28363293e-07]\n",
      " [ 9.47721367e-04]\n",
      " [-1.03334390e-05]\n",
      " [ 9.34442042e-04]\n",
      " [ 1.59854305e-06]\n",
      " [ 9.43199774e-04]\n",
      " [-1.50491410e-05]\n",
      " [ 9.26552090e-04]]\n"
     ]
    },
    {
     "name": "stderr",
     "output_type": "stream",
     "text": [
      "<ipython-input-9-147fa590b8c3>:2: RuntimeWarning: invalid value encountered in double_scalars\n",
      "  return max(abs((s2 - s1)/s2) for s1,s2 in zip(array1, array2))\n"
     ]
    }
   ],
   "source": [
    "u = solucao_jacobi(Kg, F, 100, 1e-3)\n",
    "u2 = solucao_gauss(Kg, F, 100, 1e-3)\n",
    "print(\"-\"*8, \"JACOBI\", \"-\"*8)\n",
    "print(u)\n",
    "print(\"-\"*8, \"GAUSS\", \"-\"*8)\n",
    "print(u2)"
   ]
  },
  {
   "cell_type": "code",
   "execution_count": 12,
   "metadata": {},
   "outputs": [],
   "source": [
    "c = math.cos(45)\n",
    "s = math.sin(45)\n",
    "\n",
    "# for i in range(nm):\n"
   ]
  },
  {
   "cell_type": "code",
   "execution_count": 13,
   "metadata": {},
   "outputs": [],
   "source": [
    "# geraSaida(\"saida\", , u, , , Kg)"
   ]
  },
  {
   "cell_type": "markdown",
   "metadata": {},
   "source": [
    "### Reações de apoio"
   ]
  },
  {
   "cell_type": "code",
   "execution_count": 14,
   "metadata": {
    "scrolled": true
   },
   "outputs": [
    {
     "data": {
      "text/plain": [
       "array([[-4.24879545e-08],\n",
       "       [-1.40000000e+04],\n",
       "       [-1.39843905e-08],\n",
       "       [-4.20000000e+04],\n",
       "       [ 1.40000000e+04],\n",
       "       [ 4.00000000e+04],\n",
       "       [ 1.40000000e+04],\n",
       "       [ 1.80000000e+04],\n",
       "       [ 1.67583494e-08],\n",
       "       [ 0.00000000e+00],\n",
       "       [-1.40000000e+04],\n",
       "       [-2.80000000e+04],\n",
       "       [-2.32830644e-10],\n",
       "       [ 2.60000000e+04],\n",
       "       [-1.40000000e+04],\n",
       "       [ 0.00000000e+00]])"
      ]
     },
     "execution_count": 14,
     "metadata": {},
     "output_type": "execute_result"
    }
   ],
   "source": [
    "P = np.matmul(Kg,u)\n",
    "P"
   ]
  },
  {
   "cell_type": "code",
   "execution_count": 15,
   "metadata": {
    "scrolled": true
   },
   "outputs": [
    {
     "data": {
      "text/plain": [
       "array([[-4.24879545e-08],\n",
       "       [-1.40000000e+04],\n",
       "       [-4.20000000e+04],\n",
       "       [-2.80000000e+04],\n",
       "       [ 0.00000000e+00],\n",
       "       [-1.40000000e+04]])"
      ]
     },
     "execution_count": 15,
     "metadata": {},
     "output_type": "execute_result"
    }
   ],
   "source": [
    "P_r = np.zeros((nr,1))\n",
    "for i in range(nr):  \n",
    "    index = int(R[i])\n",
    "    P_r[i] = P[index]    \n",
    "P_r"
   ]
  },
  {
   "cell_type": "markdown",
   "metadata": {},
   "source": [
    "### Deformação específica"
   ]
  },
  {
   "cell_type": "markdown",
   "metadata": {},
   "source": [
    "A deformação específica pode ser\n",
    "calculada a partir dos\n",
    "deslocamentos nodais do elemento\n",
    "de barra."
   ]
  },
  {
   "attachments": {
    "image.png": {
     "image/png": "[encoded data removed]"
    }
   },
   "cell_type": "markdown",
   "metadata": {},
   "source": [
    "![image.png](attachment:image.png)"
   ]
  },
  {
   "cell_type": "code",
   "execution_count": 16,
   "metadata": {
    "scrolled": true
   },
   "outputs": [
    {
     "data": {
      "text/plain": [
       "array([[ 1.56485946e-05],\n",
       "       [ 9.13255637e-04],\n",
       "       [ 1.09328926e-05],\n",
       "       [ 9.25828940e-04],\n",
       "       [ 3.74896406e-06],\n",
       "       [ 9.34586672e-04],\n",
       "       [ 3.74896406e-06],\n",
       "       [ 9.43791616e-04],\n",
       "       [ 8.27816937e-07],\n",
       "       [ 9.43791616e-04],\n",
       "       [-9.27725877e-06],\n",
       "       [ 9.29418049e-04],\n",
       "       [ 3.74896406e-06],\n",
       "       [ 9.38175782e-04],\n",
       "       [-1.39929608e-05],\n",
       "       [ 9.20433857e-04]])"
      ]
     },
     "execution_count": 16,
     "metadata": {},
     "output_type": "execute_result"
    }
   ],
   "source": [
    "u"
   ]
  },
  {
   "cell_type": "code",
   "execution_count": null,
   "metadata": {},
   "outputs": [],
   "source": []
  },
  {
   "cell_type": "markdown",
   "metadata": {},
   "source": [
    "### Tensões internas"
   ]
  },
  {
   "cell_type": "markdown",
   "metadata": {},
   "source": [
    "Por sua vez, a tensão no elemento de barra é 𝜎 = 𝐸 ∙ 𝜖 "
   ]
  },
  {
   "attachments": {
    "image.png": {
     "image/png": "[encoded data removed]"
    }
   },
   "cell_type": "markdown",
   "metadata": {},
   "source": [
    "![image.png](attachment:image.png)"
   ]
  },
  {
   "cell_type": "code",
   "execution_count": 17,
   "metadata": {},
   "outputs": [],
   "source": [
    "# acho q se tiver a deformação, dá pra fazer cada um vezes E"
   ]
  },
  {
   "cell_type": "code",
   "execution_count": null,
   "metadata": {},
   "outputs": [],
   "source": []
  },
  {
   "cell_type": "markdown",
   "metadata": {},
   "source": [
    "### Tensões internas"
   ]
  },
  {
   "cell_type": "code",
   "execution_count": 18,
   "metadata": {},
   "outputs": [],
   "source": [
    "# Daria pra fazer tensão vezes área pra cada um?"
   ]
  },
  {
   "cell_type": "code",
   "execution_count": 19,
   "metadata": {},
   "outputs": [],
   "source": [
    "# FALTA\n",
    "# Deformações\n",
    "# Forças internas\n",
    "# Tensões internas"
   ]
  }
 ],
 "metadata": {
  "kernelspec": {
   "display_name": "Python 3",
   "language": "python",
   "name": "python3"
  },
  "language_info": {
   "codemirror_mode": {
    "name": "ipython",
    "version": 3
   },
   "file_extension": ".py",
   "mimetype": "text/x-python",
   "name": "python",
   "nbconvert_exporter": "python",
   "pygments_lexer": "ipython3",
   "version": "3.8.5"
  }
 },
 "nbformat": 4,
 "nbformat_minor": 2
}
